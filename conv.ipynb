{
 "cells": [
  {
   "cell_type": "code",
   "execution_count": 22,
   "metadata": {},
   "outputs": [],
   "source": [
    "import cv2 as cv\n",
    "import numpy as np\n",
    "import tensorflow as tf"
   ]
  },
  {
   "cell_type": "code",
   "execution_count": 27,
   "metadata": {},
   "outputs": [],
   "source": [
    "img=cv.imread('2.png')\n",
    "img=cv.cvtColor(img,cv.COLOR_BGR2GRAY)\n",
    "img=cv.resize(img,(28,28))\n",
    "img=cv.bitwise_not(img)\n",
    "cv.imshow('win', img) \n",
    "cv.waitKey(0) \n",
    "cv.destroyAllWindows() \n",
    "arr=np.array(img)\n",
    "arr=arr/255\n",
    "arr = np.expand_dims(arr, axis=-1)\n",
    "arr = np.expand_dims(arr, axis=0)"
   ]
  },
  {
   "cell_type": "code",
   "execution_count": 28,
   "metadata": {},
   "outputs": [
    {
     "name": "stdout",
     "output_type": "stream",
     "text": [
      "2\n"
     ]
    }
   ],
   "source": [
    "model=tf.keras.models.load_model(\"mnist_hand_Neural_model.h5\")\n",
    "def prediction(mat):\n",
    "    logits=model(mat)\n",
    "    f_x=tf.nn.softmax(logits)\n",
    "    print(np.argmax(f_x))\n",
    "\n",
    "prediction(arr)"
   ]
  },
  {
   "cell_type": "code",
   "execution_count": null,
   "metadata": {},
   "outputs": [],
   "source": []
  }
 ],
 "metadata": {
  "kernelspec": {
   "display_name": "tf_py_310",
   "language": "python",
   "name": "python3"
  },
  "language_info": {
   "codemirror_mode": {
    "name": "ipython",
    "version": 3
   },
   "file_extension": ".py",
   "mimetype": "text/x-python",
   "name": "python",
   "nbconvert_exporter": "python",
   "pygments_lexer": "ipython3",
   "version": "3.10.14"
  }
 },
 "nbformat": 4,
 "nbformat_minor": 2
}
